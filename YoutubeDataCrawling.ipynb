{
  "nbformat": 4,
  "nbformat_minor": 0,
  "metadata": {
    "colab": {
      "provenance": [],
      "authorship_tag": "ABX9TyPbyNnzJHXEa2afWmJOsym3",
      "include_colab_link": true
    },
    "kernelspec": {
      "name": "python3",
      "display_name": "Python 3"
    },
    "language_info": {
      "name": "python"
    }
  },
  "cells": [
    {
      "cell_type": "markdown",
      "metadata": {
        "id": "view-in-github",
        "colab_type": "text"
      },
      "source": [
        "<a href=\"https://colab.research.google.com/github/jwayj/CheckViolence/blob/main/YoutubeDataCrawling.ipynb\" target=\"_parent\"><img src=\"https://colab.research.google.com/assets/colab-badge.svg\" alt=\"Open In Colab\"/></a>"
      ]
    },
    {
      "cell_type": "code",
      "execution_count": 1,
      "metadata": {
        "colab": {
          "base_uri": "https://localhost:8080/"
        },
        "id": "MMZtvZk65XJT",
        "outputId": "afd848dc-ae4d-43f9-ae3c-2e6b604f371b"
      },
      "outputs": [
        {
          "output_type": "stream",
          "name": "stdout",
          "text": [
            "Collecting youtube-comment-downloader\n",
            "  Downloading youtube_comment_downloader-0.1.78-py3-none-any.whl.metadata (2.9 kB)\n",
            "Collecting dateparser (from youtube-comment-downloader)\n",
            "  Downloading dateparser-1.2.2-py3-none-any.whl.metadata (29 kB)\n",
            "Requirement already satisfied: requests in /usr/local/lib/python3.12/dist-packages (from youtube-comment-downloader) (2.32.4)\n",
            "Requirement already satisfied: python-dateutil>=2.7.0 in /usr/local/lib/python3.12/dist-packages (from dateparser->youtube-comment-downloader) (2.9.0.post0)\n",
            "Requirement already satisfied: pytz>=2024.2 in /usr/local/lib/python3.12/dist-packages (from dateparser->youtube-comment-downloader) (2025.2)\n",
            "Requirement already satisfied: regex>=2024.9.11 in /usr/local/lib/python3.12/dist-packages (from dateparser->youtube-comment-downloader) (2024.11.6)\n",
            "Requirement already satisfied: tzlocal>=0.2 in /usr/local/lib/python3.12/dist-packages (from dateparser->youtube-comment-downloader) (5.3.1)\n",
            "Requirement already satisfied: charset_normalizer<4,>=2 in /usr/local/lib/python3.12/dist-packages (from requests->youtube-comment-downloader) (3.4.3)\n",
            "Requirement already satisfied: idna<4,>=2.5 in /usr/local/lib/python3.12/dist-packages (from requests->youtube-comment-downloader) (3.10)\n",
            "Requirement already satisfied: urllib3<3,>=1.21.1 in /usr/local/lib/python3.12/dist-packages (from requests->youtube-comment-downloader) (2.5.0)\n",
            "Requirement already satisfied: certifi>=2017.4.17 in /usr/local/lib/python3.12/dist-packages (from requests->youtube-comment-downloader) (2025.8.3)\n",
            "Requirement already satisfied: six>=1.5 in /usr/local/lib/python3.12/dist-packages (from python-dateutil>=2.7.0->dateparser->youtube-comment-downloader) (1.17.0)\n",
            "Downloading youtube_comment_downloader-0.1.78-py3-none-any.whl (8.3 kB)\n",
            "Downloading dateparser-1.2.2-py3-none-any.whl (315 kB)\n",
            "\u001b[2K   \u001b[90m━━━━━━━━━━━━━━━━━━━━━━━━━━━━━━━━━━━━━━━━\u001b[0m \u001b[32m315.5/315.5 kB\u001b[0m \u001b[31m6.8 MB/s\u001b[0m eta \u001b[36m0:00:00\u001b[0m\n",
            "\u001b[?25hInstalling collected packages: dateparser, youtube-comment-downloader\n",
            "Successfully installed dateparser-1.2.2 youtube-comment-downloader-0.1.78\n"
          ]
        }
      ],
      "source": [
        "!pip install youtube-comment-downloader"
      ]
    },
    {
      "cell_type": "code",
      "source": [
        "import os\n",
        "import json\n",
        "import pandas as pd\n",
        "\n",
        "# 유튜브 URL 목록\n",
        "urls = [\n",
        "    'https://youtu.be/oakQvwCbvr8?si=VnHiYbgi-8eGKSkS',\n",
        "    'https://youtu.be/wBFHmehTPb8?si=8xAwGwo7YuPGT8me',\n",
        "    'https://youtube.com/shorts/DiC1PugctVEsi=soYGUbSDEdEgG1Kp'\n",
        "]\n",
        "\n",
        "# 댓글을 저장할 CSV 파일 이름\n",
        "merged_csv_file = 'MergedYoutubeComments.csv'\n",
        "\n",
        "# 여러 URL을 순회하며 댓글을 추출\n",
        "for i, url in enumerate(urls):\n",
        "    # JSON 파일 이름\n",
        "    json_file = f'YoutubeComments_{i}.json'\n",
        "\n",
        "    # youtube-comment-downloader 명령어 실행\n",
        "    !youtube-comment-downloader --url {url} --output {json_file}\n",
        "\n",
        "    # JSON 파일 읽기\n",
        "    with open(json_file, 'r', encoding='utf-8') as f:\n",
        "        json_data = []\n",
        "        for line in f:\n",
        "            json_data.append(json.loads(line))\n",
        "\n",
        "    # JSON 데이터를 DataFrame으로 변환\n",
        "    df = pd.DataFrame(json_data)\n",
        "\n",
        "    # CSV 파일로 저장 (각 URL별로 저장하고 싶으면 주석 해제)\n",
        "    csv_file = f'YoutubeComments_{i}.csv'\n",
        "    df.to_csv(csv_file, index=False, encoding='utf-8-sig')  # 한글 깨짐 방지\n",
        "\n",
        "    # 기존 CSV 파일과 병합\n",
        "    if os.path.exists(merged_csv_file):\n",
        "        df.to_csv(merged_csv_file, mode='a', index=False, header=False, encoding='utf-8-sig')\n",
        "    else:\n",
        "        df.to_csv(merged_csv_file, index=False, encoding='utf-8-sig')\n",
        "\n",
        "    # JSON 파일 삭제\n",
        "    os.remove(json_file)\n",
        "\n",
        "print(f\"모든 URL의 댓글이 {merged_csv_file} 파일에 저장되었습니다.\")"
      ],
      "metadata": {
        "id": "ALcg_KZ5BAK6"
      },
      "execution_count": null,
      "outputs": []
    }
  ]
}